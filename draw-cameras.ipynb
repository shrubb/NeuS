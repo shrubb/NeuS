{
 "cells": [
  {
   "cell_type": "code",
   "execution_count": 1,
   "id": "d71bec90",
   "metadata": {},
   "outputs": [],
   "source": [
    "from pathlib import Path\n",
    "import torch\n",
    "from matplotlib import pyplot as plt\n",
    "%matplotlib inline"
   ]
  },
  {
   "cell_type": "code",
   "execution_count": 17,
   "id": "28f29343",
   "metadata": {},
   "outputs": [],
   "source": [
    "EXP_DIR = Path(\"logs-new/100_rank50_splitReplFirstHalf__ftTo130-3_camVeryLongReg/\")\n",
    "\n",
    "all_intrinsics = []\n",
    "all_poses = []\n",
    "for cameras_filename in sorted(x for x in EXP_DIR.iterdir() if x.name.startswith('cameras_')):\n",
    "    cameras = torch.load(cameras_filename, map_location='cpu')\n",
    "    all_intrinsics.append(cameras['intrinsics'])\n",
    "    all_poses.append(cameras['extrinsics'])\n",
    "\n",
    "all_intrinsics = torch.stack(all_intrinsics)\n",
    "all_poses = torch.stack(all_poses)"
   ]
  },
  {
   "cell_type": "code",
   "execution_count": 18,
   "id": "5338b757",
   "metadata": {},
   "outputs": [
    {
     "data": {
      "text/plain": [
       "Text(0.5, 1.0, 'Camera positions, 3-view (red = object; colormap = iteration number)')"
      ]
     },
     "execution_count": 18,
     "metadata": {},
     "output_type": "execute_result"
    },
    {
     "data": {
      "image/png": "[encoded data removed]",
      "text/plain": [
       "<Figure size 432x288 with 1 Axes>"
      ]
     },
     "metadata": {
      "needs_background": "light"
     },
     "output_type": "display_data"
    }
   ],
   "source": [
    "positions = all_poses[::3, :, :3, 3] # n_iters x n_cams x 3\n",
    "iter_number = torch.arange(len(positions))[..., None].expand(positions[..., 0].shape) # n_iters x n_cams\n",
    "positions_2d = positions[:, :, 0:3:2] # n_iters x n_cams x 2\n",
    "positions_2d_flattened = positions_2d.reshape(-1, 2) # n_iters*n_cams x 2\n",
    "plt.scatter(*positions_2d_flattened.T, c=iter_number.reshape(-1), s=20)\n",
    "plt.scatter(0, 0, c='red')\n",
    "plt.axis('equal')\n",
    "plt.grid()\n",
    "plt.title(f\"Camera positions, {positions.shape[1]}-view (red = object; colormap = iteration number)\")"
   ]
  },
  {
   "cell_type": "code",
   "execution_count": null,
   "id": "8062dce6",
   "metadata": {},
   "outputs": [],
   "source": []
  },
  {
   "cell_type": "code",
   "execution_count": null,
   "id": "bbe52e10",
   "metadata": {},
   "outputs": [],
   "source": []
  }
 ],
 "metadata": {
  "kernelspec": {
   "display_name": "Python 3 (ipykernel)",
   "language": "python",
   "name": "python3"
  },
  "language_info": {
   "codemirror_mode": {
    "name": "ipython",
    "version": 3
   },
   "file_extension": ".py",
   "mimetype": "text/x-python",
   "name": "python",
   "nbconvert_exporter": "python",
   "pygments_lexer": "ipython3",
   "version": "3.9.5"
  }
 },
 "nbformat": 4,
 "nbformat_minor": 5
}
